{
 "cells": [
  {
   "cell_type": "code",
   "metadata": {
    "ExecuteTime": {
     "end_time": "2024-06-15T00:53:53.297507Z",
     "start_time": "2024-06-15T00:53:53.267500Z"
    }
   },
   "source": [
    "#model.py\n",
    "\n",
    "from tensorflow.keras.models import Sequential\n",
    "from tensorflow.keras.layers import Dense\n",
    "\n",
    "model = Sequential()\n",
    "model.add(Dense(64, input_dim=num_features, activation='relu')) # replace num_features\n",
    "model.add(Dense(64, activation='relu'))\n",
    "model.add(Dense(1, activation='sigmoid'))\n",
    "model.compile(loss='binary_crossentropy', optimizer='adam', metrics=['accuracy']) \n",
    "\n",
    "history = model.fit(X_train, Y_train, validation_data=(X_val, y_val), epochs=50, batch_size=32) #initialize X and Y train elsewhere\n",
    "test_loss, test_acc = model.evaluate(X_test, Y_test)\n",
    "\n",
    "print(f'Test accuracy: {test_acc}')\n",
    "\n",
    "model.save('mental_illness_risk_model.h5')"
   ],
   "outputs": [
    {
     "ename": "ModuleNotFoundError",
     "evalue": "No module named 'tensorflow'",
     "output_type": "error",
     "traceback": [
      "\u001B[0;31m---------------------------------------------------------------------------\u001B[0m",
      "\u001B[0;31mModuleNotFoundError\u001B[0m                       Traceback (most recent call last)",
      "Cell \u001B[0;32mIn[2], line 3\u001B[0m\n\u001B[1;32m      1\u001B[0m \u001B[38;5;66;03m#model.py\u001B[39;00m\n\u001B[0;32m----> 3\u001B[0m \u001B[38;5;28;01mfrom\u001B[39;00m \u001B[38;5;21;01mtensorflow\u001B[39;00m\u001B[38;5;21;01m.\u001B[39;00m\u001B[38;5;21;01mkeras\u001B[39;00m\u001B[38;5;21;01m.\u001B[39;00m\u001B[38;5;21;01mmodels\u001B[39;00m \u001B[38;5;28;01mimport\u001B[39;00m Sequential\n\u001B[1;32m      4\u001B[0m \u001B[38;5;28;01mfrom\u001B[39;00m \u001B[38;5;21;01mtensorflow\u001B[39;00m\u001B[38;5;21;01m.\u001B[39;00m\u001B[38;5;21;01mkeras\u001B[39;00m\u001B[38;5;21;01m.\u001B[39;00m\u001B[38;5;21;01mlayers\u001B[39;00m \u001B[38;5;28;01mimport\u001B[39;00m Dense\n\u001B[1;32m      6\u001B[0m model \u001B[38;5;241m=\u001B[39m Sequential()\n",
      "\u001B[0;31mModuleNotFoundError\u001B[0m: No module named 'tensorflow'"
     ]
    }
   ],
   "execution_count": 2
  },
  {
   "cell_type": "code",
   "execution_count": null,
   "metadata": {},
   "outputs": [],
   "source": [
    "#generateTrainingData.py\n",
    "\n",
    "import numpy as np\n",
    "import pandas as pd\n",
    "\n",
    "num_samples = 1000\n",
    "\n",
    "age = np.random.normal(loc=35, scale=10, size=num_samples)\n",
    "gender = np.random.choice(['Male', 'Female', 'Other'], size=num_samples)\n",
    "education_level = np.random.choice(['High School', 'Bachelor', 'Master', 'PhD'], size=num_samples)\n",
    "\n",
    "\n",
    "sleep_hours = np.random.normal(loc=7, scale=1.5, size=num_samples)\n",
    "exercise_hours = np.random.normal(loc=3, scale=2, size=num_samples)\n",
    "substance_use = np.random.choice(['Never', 'Occasionally', 'Regularly'], size=num_samples)\n",
    "\n",
    "\n",
    "stress_levels = np.random.normal(loc=5, scale=2, size=num_samples)\n",
    "social_support = np.random.normal(loc=3, scale=1.5, size=num_samples)\n",
    "\n",
    "\n",
    "past_diagnoses = np.random.choice([0, 1], size=num_samples, p=[0.7, 0.3])\n",
    "family_history = np.random.choice([0, 1], size=num_samples, p=[0.8, 0.2])\n",
    "\n",
    "\n",
    "data = pd.DataFrame({\n",
    "    'Age': age,\n",
    "    'Gender': gender,\n",
    "    'Education_Level': education_level,\n",
    "    'Sleep_Hours': sleep_hours,\n",
    "    'Exercise_Hours': exercise_hours,\n",
    "    'Substance_Use': substance_use,\n",
    "    'Stress_Levels': stress_levels,\n",
    "    'Social_Support': social_support,\n",
    "    'Past_Diagnoses': past_diagnoses,\n",
    "    'Family_History': family_history\n",
    "})\n",
    "\n",
    "# Generates risk of mental illness based on logic\n",
    "data['Mental_Illness_Risk'] = (data['Stress_Levels'] > 6) | (data['Past_Diagnoses'] == 1) | (data['Family_History'] == 1)"
   ]
  },
  {
   "cell_type": "code",
   "execution_count": null,
   "metadata": {},
   "outputs": [],
   "source": [
    "#Preprocessing.py -- use if we find an external database to pull data from\n",
    "\n",
    "from sklearn.preprocessing import OneHotEncoder, StandardScaler\n",
    "\n",
    "# One-hot encode categorical variables\n",
    "categorical_columns = ['Gender', 'Education_Level', 'Substance_Use']\n",
    "encoder = OneHotEncoder(sparse=False)\n",
    "encoded_categorical_data = encoder.fit_transform(data[categorical_columns])\n",
    "\n",
    "# Standardize numerical variables\n",
    "numerical_columns = ['Age', 'Sleep_Hours', 'Exercise_Hours', 'Stress_Levels', 'Social_Support']\n",
    "scaler = StandardScaler()\n",
    "scaled_numerical_data = scaler.fit_transform(data[numerical_columns])\n",
    "\n",
    "# Combine preprocessed data\n",
    "preprocessed_data = np.hstack([encoded_categorical_data, scaled_numerical_data])\n",
    "\n",
    "# Define target variable\n",
    "target = data['Mental_Illness_Risk'].astype(int)"
   ]
  }
 ],
 "metadata": {
  "kernelspec": {
   "display_name": "Python 3",
   "language": "python",
   "name": "python3"
  },
  "language_info": {
   "codemirror_mode": {
    "name": "ipython",
    "version": 3
   },
   "file_extension": ".py",
   "mimetype": "text/x-python",
   "name": "python",
   "nbconvert_exporter": "python",
   "pygments_lexer": "ipython3",
   "version": "3.12.1"
  }
 },
 "nbformat": 4,
 "nbformat_minor": 2
}
